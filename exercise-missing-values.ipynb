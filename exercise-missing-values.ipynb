{
 "cells": [
  {
   "cell_type": "markdown",
   "id": "residential-genre",
   "metadata": {
    "papermill": {
     "duration": 0.033896,
     "end_time": "2021-06-18T15:32:12.549554",
     "exception": false,
     "start_time": "2021-06-18T15:32:12.515658",
     "status": "completed"
    },
    "tags": []
   },
   "source": [
    "**This notebook is an exercise in the [Intermediate Machine Learning](https://www.kaggle.com/learn/intermediate-machine-learning) course.  You can reference the tutorial at [this link](https://www.kaggle.com/alexisbcook/missing-values).**\n",
    "\n",
    "---\n"
   ]
  },
  {
   "cell_type": "markdown",
   "id": "pursuant-cargo",
   "metadata": {
    "papermill": {
     "duration": 0.027626,
     "end_time": "2021-06-18T15:32:12.608780",
     "exception": false,
     "start_time": "2021-06-18T15:32:12.581154",
     "status": "completed"
    },
    "tags": []
   },
   "source": [
    "Now it's your turn to test your new knowledge of **missing values** handling. You'll probably find it makes a big difference.\n",
    "\n",
    "# Setup\n",
    "\n",
    "The questions will give you feedback on your work. Run the following cell to set up the feedback system."
   ]
  },
  {
   "cell_type": "code",
   "execution_count": 1,
   "id": "diverse-batman",
   "metadata": {
    "execution": {
     "iopub.execute_input": "2021-06-18T15:32:12.676724Z",
     "iopub.status.busy": "2021-06-18T15:32:12.675590Z",
     "iopub.status.idle": "2021-06-18T15:32:12.725725Z",
     "shell.execute_reply": "2021-06-18T15:32:12.724813Z",
     "shell.execute_reply.started": "2021-06-18T14:52:15.769447Z"
    },
    "papermill": {
     "duration": 0.088591,
     "end_time": "2021-06-18T15:32:12.725924",
     "exception": false,
     "start_time": "2021-06-18T15:32:12.637333",
     "status": "completed"
    },
    "tags": []
   },
   "outputs": [
    {
     "name": "stdout",
     "output_type": "stream",
     "text": [
      "Setup Complete\n"
     ]
    }
   ],
   "source": [
    "# Set up code checking\n",
    "import os\n",
    "if not os.path.exists(\"../input/train.csv\"):\n",
    "    os.symlink(\"../input/home-data-for-ml-course/train.csv\", \"../input/train.csv\")  \n",
    "    os.symlink(\"../input/home-data-for-ml-course/test.csv\", \"../input/test.csv\") \n",
    "from learntools.core import binder\n",
    "binder.bind(globals())\n",
    "from learntools.ml_intermediate.ex2 import *\n",
    "print(\"Setup Complete\")"
   ]
  },
  {
   "cell_type": "markdown",
   "id": "radical-jenny",
   "metadata": {
    "papermill": {
     "duration": 0.02961,
     "end_time": "2021-06-18T15:32:12.785751",
     "exception": false,
     "start_time": "2021-06-18T15:32:12.756141",
     "status": "completed"
    },
    "tags": []
   },
   "source": [
    "In this exercise, you will work with data from the [Housing Prices Competition for Kaggle Learn Users](https://www.kaggle.com/c/home-data-for-ml-course). \n",
    "\n",
    "![Ames Housing dataset image](https://i.imgur.com/lTJVG4e.png)\n",
    "\n",
    "Run the next code cell without changes to load the training and validation sets in `X_train`, `X_valid`, `y_train`, and `y_valid`.  The test set is loaded in `X_test`."
   ]
  },
  {
   "cell_type": "code",
   "execution_count": 2,
   "id": "behind-reviewer",
   "metadata": {
    "execution": {
     "iopub.execute_input": "2021-06-18T15:32:12.857900Z",
     "iopub.status.busy": "2021-06-18T15:32:12.857193Z",
     "iopub.status.idle": "2021-06-18T15:32:14.148717Z",
     "shell.execute_reply": "2021-06-18T15:32:14.147665Z",
     "shell.execute_reply.started": "2021-06-18T14:52:20.824247Z"
    },
    "papermill": {
     "duration": 1.328695,
     "end_time": "2021-06-18T15:32:14.148905",
     "exception": false,
     "start_time": "2021-06-18T15:32:12.820210",
     "status": "completed"
    },
    "tags": []
   },
   "outputs": [],
   "source": [
    "import pandas as pd\n",
    "from sklearn.model_selection import train_test_split\n",
    "\n",
    "# Read the data\n",
    "X_full = pd.read_csv('../input/train.csv', index_col='Id')\n",
    "X_test_full = pd.read_csv('../input/test.csv', index_col='Id')\n",
    "\n",
    "# Remove rows with missing target, separate target from predictors\n",
    "X_full.dropna(axis=0, subset=['SalePrice'], inplace=True)\n",
    "y = X_full.SalePrice\n",
    "X_full.drop(['SalePrice'], axis=1, inplace=True)\n",
    "\n",
    "# To keep things simple, we'll use only numerical predictors\n",
    "X = X_full.select_dtypes(exclude=['object'])\n",
    "X_test = X_test_full.select_dtypes(exclude=['object'])\n",
    "\n",
    "# Break off validation set from training data\n",
    "X_train, X_valid, y_train, y_valid = train_test_split(X, y, train_size=0.8, test_size=0.2,\n",
    "                                                      random_state=0)"
   ]
  },
  {
   "cell_type": "markdown",
   "id": "hungarian-spending",
   "metadata": {
    "papermill": {
     "duration": 0.029846,
     "end_time": "2021-06-18T15:32:14.210150",
     "exception": false,
     "start_time": "2021-06-18T15:32:14.180304",
     "status": "completed"
    },
    "tags": []
   },
   "source": [
    "Use the next code cell to print the first five rows of the data."
   ]
  },
  {
   "cell_type": "code",
   "execution_count": 3,
   "id": "complicated-intention",
   "metadata": {
    "execution": {
     "iopub.execute_input": "2021-06-18T15:32:14.274533Z",
     "iopub.status.busy": "2021-06-18T15:32:14.273592Z",
     "iopub.status.idle": "2021-06-18T15:32:14.305094Z",
     "shell.execute_reply": "2021-06-18T15:32:14.305702Z",
     "shell.execute_reply.started": "2021-06-18T14:52:24.052614Z"
    },
    "papermill": {
     "duration": 0.066074,
     "end_time": "2021-06-18T15:32:14.305904",
     "exception": false,
     "start_time": "2021-06-18T15:32:14.239830",
     "status": "completed"
    },
    "tags": []
   },
   "outputs": [
    {
     "data": {
      "text/html": [
       "<div>\n",
       "<style scoped>\n",
       "    .dataframe tbody tr th:only-of-type {\n",
       "        vertical-align: middle;\n",
       "    }\n",
       "\n",
       "    .dataframe tbody tr th {\n",
       "        vertical-align: top;\n",
       "    }\n",
       "\n",
       "    .dataframe thead th {\n",
       "        text-align: right;\n",
       "    }\n",
       "</style>\n",
       "<table border=\"1\" class=\"dataframe\">\n",
       "  <thead>\n",
       "    <tr style=\"text-align: right;\">\n",
       "      <th></th>\n",
       "      <th>MSSubClass</th>\n",
       "      <th>LotFrontage</th>\n",
       "      <th>LotArea</th>\n",
       "      <th>OverallQual</th>\n",
       "      <th>OverallCond</th>\n",
       "      <th>YearBuilt</th>\n",
       "      <th>YearRemodAdd</th>\n",
       "      <th>MasVnrArea</th>\n",
       "      <th>BsmtFinSF1</th>\n",
       "      <th>BsmtFinSF2</th>\n",
       "      <th>...</th>\n",
       "      <th>GarageArea</th>\n",
       "      <th>WoodDeckSF</th>\n",
       "      <th>OpenPorchSF</th>\n",
       "      <th>EnclosedPorch</th>\n",
       "      <th>3SsnPorch</th>\n",
       "      <th>ScreenPorch</th>\n",
       "      <th>PoolArea</th>\n",
       "      <th>MiscVal</th>\n",
       "      <th>MoSold</th>\n",
       "      <th>YrSold</th>\n",
       "    </tr>\n",
       "    <tr>\n",
       "      <th>Id</th>\n",
       "      <th></th>\n",
       "      <th></th>\n",
       "      <th></th>\n",
       "      <th></th>\n",
       "      <th></th>\n",
       "      <th></th>\n",
       "      <th></th>\n",
       "      <th></th>\n",
       "      <th></th>\n",
       "      <th></th>\n",
       "      <th></th>\n",
       "      <th></th>\n",
       "      <th></th>\n",
       "      <th></th>\n",
       "      <th></th>\n",
       "      <th></th>\n",
       "      <th></th>\n",
       "      <th></th>\n",
       "      <th></th>\n",
       "      <th></th>\n",
       "      <th></th>\n",
       "    </tr>\n",
       "  </thead>\n",
       "  <tbody>\n",
       "    <tr>\n",
       "      <th>619</th>\n",
       "      <td>20</td>\n",
       "      <td>90.0</td>\n",
       "      <td>11694</td>\n",
       "      <td>9</td>\n",
       "      <td>5</td>\n",
       "      <td>2007</td>\n",
       "      <td>2007</td>\n",
       "      <td>452.0</td>\n",
       "      <td>48</td>\n",
       "      <td>0</td>\n",
       "      <td>...</td>\n",
       "      <td>774</td>\n",
       "      <td>0</td>\n",
       "      <td>108</td>\n",
       "      <td>0</td>\n",
       "      <td>0</td>\n",
       "      <td>260</td>\n",
       "      <td>0</td>\n",
       "      <td>0</td>\n",
       "      <td>7</td>\n",
       "      <td>2007</td>\n",
       "    </tr>\n",
       "    <tr>\n",
       "      <th>871</th>\n",
       "      <td>20</td>\n",
       "      <td>60.0</td>\n",
       "      <td>6600</td>\n",
       "      <td>5</td>\n",
       "      <td>5</td>\n",
       "      <td>1962</td>\n",
       "      <td>1962</td>\n",
       "      <td>0.0</td>\n",
       "      <td>0</td>\n",
       "      <td>0</td>\n",
       "      <td>...</td>\n",
       "      <td>308</td>\n",
       "      <td>0</td>\n",
       "      <td>0</td>\n",
       "      <td>0</td>\n",
       "      <td>0</td>\n",
       "      <td>0</td>\n",
       "      <td>0</td>\n",
       "      <td>0</td>\n",
       "      <td>8</td>\n",
       "      <td>2009</td>\n",
       "    </tr>\n",
       "    <tr>\n",
       "      <th>93</th>\n",
       "      <td>30</td>\n",
       "      <td>80.0</td>\n",
       "      <td>13360</td>\n",
       "      <td>5</td>\n",
       "      <td>7</td>\n",
       "      <td>1921</td>\n",
       "      <td>2006</td>\n",
       "      <td>0.0</td>\n",
       "      <td>713</td>\n",
       "      <td>0</td>\n",
       "      <td>...</td>\n",
       "      <td>432</td>\n",
       "      <td>0</td>\n",
       "      <td>0</td>\n",
       "      <td>44</td>\n",
       "      <td>0</td>\n",
       "      <td>0</td>\n",
       "      <td>0</td>\n",
       "      <td>0</td>\n",
       "      <td>8</td>\n",
       "      <td>2009</td>\n",
       "    </tr>\n",
       "    <tr>\n",
       "      <th>818</th>\n",
       "      <td>20</td>\n",
       "      <td>NaN</td>\n",
       "      <td>13265</td>\n",
       "      <td>8</td>\n",
       "      <td>5</td>\n",
       "      <td>2002</td>\n",
       "      <td>2002</td>\n",
       "      <td>148.0</td>\n",
       "      <td>1218</td>\n",
       "      <td>0</td>\n",
       "      <td>...</td>\n",
       "      <td>857</td>\n",
       "      <td>150</td>\n",
       "      <td>59</td>\n",
       "      <td>0</td>\n",
       "      <td>0</td>\n",
       "      <td>0</td>\n",
       "      <td>0</td>\n",
       "      <td>0</td>\n",
       "      <td>7</td>\n",
       "      <td>2008</td>\n",
       "    </tr>\n",
       "    <tr>\n",
       "      <th>303</th>\n",
       "      <td>20</td>\n",
       "      <td>118.0</td>\n",
       "      <td>13704</td>\n",
       "      <td>7</td>\n",
       "      <td>5</td>\n",
       "      <td>2001</td>\n",
       "      <td>2002</td>\n",
       "      <td>150.0</td>\n",
       "      <td>0</td>\n",
       "      <td>0</td>\n",
       "      <td>...</td>\n",
       "      <td>843</td>\n",
       "      <td>468</td>\n",
       "      <td>81</td>\n",
       "      <td>0</td>\n",
       "      <td>0</td>\n",
       "      <td>0</td>\n",
       "      <td>0</td>\n",
       "      <td>0</td>\n",
       "      <td>1</td>\n",
       "      <td>2006</td>\n",
       "    </tr>\n",
       "  </tbody>\n",
       "</table>\n",
       "<p>5 rows × 36 columns</p>\n",
       "</div>"
      ],
      "text/plain": [
       "     MSSubClass  LotFrontage  LotArea  OverallQual  OverallCond  YearBuilt  \\\n",
       "Id                                                                           \n",
       "619          20         90.0    11694            9            5       2007   \n",
       "871          20         60.0     6600            5            5       1962   \n",
       "93           30         80.0    13360            5            7       1921   \n",
       "818          20          NaN    13265            8            5       2002   \n",
       "303          20        118.0    13704            7            5       2001   \n",
       "\n",
       "     YearRemodAdd  MasVnrArea  BsmtFinSF1  BsmtFinSF2  ...  GarageArea  \\\n",
       "Id                                                     ...               \n",
       "619          2007       452.0          48           0  ...         774   \n",
       "871          1962         0.0           0           0  ...         308   \n",
       "93           2006         0.0         713           0  ...         432   \n",
       "818          2002       148.0        1218           0  ...         857   \n",
       "303          2002       150.0           0           0  ...         843   \n",
       "\n",
       "     WoodDeckSF  OpenPorchSF  EnclosedPorch  3SsnPorch  ScreenPorch  PoolArea  \\\n",
       "Id                                                                              \n",
       "619           0          108              0          0          260         0   \n",
       "871           0            0              0          0            0         0   \n",
       "93            0            0             44          0            0         0   \n",
       "818         150           59              0          0            0         0   \n",
       "303         468           81              0          0            0         0   \n",
       "\n",
       "     MiscVal  MoSold  YrSold  \n",
       "Id                            \n",
       "619        0       7    2007  \n",
       "871        0       8    2009  \n",
       "93         0       8    2009  \n",
       "818        0       7    2008  \n",
       "303        0       1    2006  \n",
       "\n",
       "[5 rows x 36 columns]"
      ]
     },
     "execution_count": 3,
     "metadata": {},
     "output_type": "execute_result"
    }
   ],
   "source": [
    "X_train.head()"
   ]
  },
  {
   "cell_type": "markdown",
   "id": "turkish-oregon",
   "metadata": {
    "papermill": {
     "duration": 0.030777,
     "end_time": "2021-06-18T15:32:14.367606",
     "exception": false,
     "start_time": "2021-06-18T15:32:14.336829",
     "status": "completed"
    },
    "tags": []
   },
   "source": [
    "You can already see a few missing values in the first several rows.  In the next step, you'll obtain a more comprehensive understanding of the missing values in the dataset.\n",
    "\n",
    "# Step 1: Preliminary investigation\n",
    "\n",
    "Run the code cell below without changes."
   ]
  },
  {
   "cell_type": "code",
   "execution_count": 4,
   "id": "corresponding-tribe",
   "metadata": {
    "execution": {
     "iopub.execute_input": "2021-06-18T15:32:14.431196Z",
     "iopub.status.busy": "2021-06-18T15:32:14.430472Z",
     "iopub.status.idle": "2021-06-18T15:32:14.441260Z",
     "shell.execute_reply": "2021-06-18T15:32:14.440654Z",
     "shell.execute_reply.started": "2021-06-18T14:52:41.218752Z"
    },
    "papermill": {
     "duration": 0.044037,
     "end_time": "2021-06-18T15:32:14.441429",
     "exception": false,
     "start_time": "2021-06-18T15:32:14.397392",
     "status": "completed"
    },
    "tags": []
   },
   "outputs": [
    {
     "name": "stdout",
     "output_type": "stream",
     "text": [
      "(1168, 36)\n",
      "LotFrontage    212\n",
      "MasVnrArea       6\n",
      "GarageYrBlt     58\n",
      "dtype: int64\n"
     ]
    }
   ],
   "source": [
    "# Shape of training data (num_rows, num_columns)\n",
    "print(X_train.shape)\n",
    "\n",
    "# Number of missing values in each column of training data\n",
    "missing_val_count_by_column = (X_train.isnull().sum())\n",
    "print(missing_val_count_by_column[missing_val_count_by_column > 0])"
   ]
  },
  {
   "cell_type": "markdown",
   "id": "conscious-purchase",
   "metadata": {
    "papermill": {
     "duration": 0.041207,
     "end_time": "2021-06-18T15:32:14.514306",
     "exception": false,
     "start_time": "2021-06-18T15:32:14.473099",
     "status": "completed"
    },
    "tags": []
   },
   "source": [
    "### Part A\n",
    "\n",
    "Use the above output to answer the questions below."
   ]
  },
  {
   "cell_type": "code",
   "execution_count": 5,
   "id": "expected-match",
   "metadata": {
    "execution": {
     "iopub.execute_input": "2021-06-18T15:32:14.587771Z",
     "iopub.status.busy": "2021-06-18T15:32:14.587112Z",
     "iopub.status.idle": "2021-06-18T15:32:14.591749Z",
     "shell.execute_reply": "2021-06-18T15:32:14.592294Z",
     "shell.execute_reply.started": "2021-06-18T14:52:46.111549Z"
    },
    "papermill": {
     "duration": 0.040096,
     "end_time": "2021-06-18T15:32:14.592472",
     "exception": false,
     "start_time": "2021-06-18T15:32:14.552376",
     "status": "completed"
    },
    "tags": []
   },
   "outputs": [
    {
     "data": {
      "application/javascript": [
       "parent.postMessage({\"jupyterEvent\": \"custom.exercise_interaction\", \"data\": {\"outcomeType\": 1, \"valueTowardsCompletion\": 1.0, \"interactionType\": 1, \"questionType\": 1, \"questionId\": \"1.1_InvestigateEquality\", \"learnToolsVersion\": \"0.3.4\", \"failureMessage\": \"\", \"exceptionClass\": \"\", \"trace\": \"\"}}, \"*\")"
      ],
      "text/plain": [
       "<IPython.core.display.Javascript object>"
      ]
     },
     "metadata": {},
     "output_type": "display_data"
    },
    {
     "data": {
      "text/markdown": [
       "<span style=\"color:#33cc33\">Correct</span>"
      ],
      "text/plain": [
       "Correct"
      ]
     },
     "metadata": {},
     "output_type": "display_data"
    }
   ],
   "source": [
    "# Fill in the line below: How many rows are in the training data?\n",
    "num_rows = 1168\n",
    "\n",
    "# Fill in the line below: How many columns in the training data\n",
    "# have missing values?\n",
    "num_cols_with_missing = 3\n",
    "\n",
    "# Fill in the line below: How many missing entries are contained in \n",
    "# all of the training data?\n",
    "tot_missing = 276\n",
    "\n",
    "# Check your answers\n",
    "step_1.a.check()"
   ]
  },
  {
   "cell_type": "code",
   "execution_count": 6,
   "id": "friendly-serum",
   "metadata": {
    "execution": {
     "iopub.execute_input": "2021-06-18T15:32:14.658728Z",
     "iopub.status.busy": "2021-06-18T15:32:14.658120Z",
     "iopub.status.idle": "2021-06-18T15:32:14.661263Z",
     "shell.execute_reply": "2021-06-18T15:32:14.661774Z"
    },
    "papermill": {
     "duration": 0.037605,
     "end_time": "2021-06-18T15:32:14.661947",
     "exception": false,
     "start_time": "2021-06-18T15:32:14.624342",
     "status": "completed"
    },
    "tags": []
   },
   "outputs": [],
   "source": [
    "# Lines below will give you a hint or solution code\n",
    "#step_1.a.hint()\n",
    "#step_1.a.solution()"
   ]
  },
  {
   "cell_type": "markdown",
   "id": "upper-anger",
   "metadata": {
    "papermill": {
     "duration": 0.029644,
     "end_time": "2021-06-18T15:32:14.722852",
     "exception": false,
     "start_time": "2021-06-18T15:32:14.693208",
     "status": "completed"
    },
    "tags": []
   },
   "source": [
    "### Part B\n",
    "Considering your answers above, what do you think is likely the best approach to dealing with the missing values?"
   ]
  },
  {
   "cell_type": "code",
   "execution_count": 7,
   "id": "legislative-witch",
   "metadata": {
    "execution": {
     "iopub.execute_input": "2021-06-18T15:32:14.805562Z",
     "iopub.status.busy": "2021-06-18T15:32:14.804472Z",
     "iopub.status.idle": "2021-06-18T15:32:14.809828Z",
     "shell.execute_reply": "2021-06-18T15:32:14.810627Z",
     "shell.execute_reply.started": "2021-06-18T14:52:51.899393Z"
    },
    "papermill": {
     "duration": 0.055731,
     "end_time": "2021-06-18T15:32:14.810866",
     "exception": false,
     "start_time": "2021-06-18T15:32:14.755135",
     "status": "completed"
    },
    "tags": []
   },
   "outputs": [
    {
     "data": {
      "application/javascript": [
       "parent.postMessage({\"jupyterEvent\": \"custom.exercise_interaction\", \"data\": {\"outcomeType\": 1, \"valueTowardsCompletion\": 1.0, \"interactionType\": 1, \"questionType\": 4, \"questionId\": \"1.2_InvestigateThought\", \"learnToolsVersion\": \"0.3.4\", \"failureMessage\": \"\", \"exceptionClass\": \"\", \"trace\": \"\"}}, \"*\")"
      ],
      "text/plain": [
       "<IPython.core.display.Javascript object>"
      ]
     },
     "metadata": {},
     "output_type": "display_data"
    },
    {
     "data": {
      "text/markdown": [
       "<span style=\"color:#33cc33\">Correct:</span> \n",
       "\n",
       "Since there are relatively few missing entries in the data (the column with the greatest percentage of missing values is missing less than 20% of its entries), we can expect that dropping columns is unlikely to yield good results.  This is because we'd be throwing away a lot of valuable data, and so imputation will likely perform better."
      ],
      "text/plain": [
       "Correct: \n",
       "\n",
       "Since there are relatively few missing entries in the data (the column with the greatest percentage of missing values is missing less than 20% of its entries), we can expect that dropping columns is unlikely to yield good results.  This is because we'd be throwing away a lot of valuable data, and so imputation will likely perform better."
      ]
     },
     "metadata": {},
     "output_type": "display_data"
    }
   ],
   "source": [
    "# Check your answer (Run this code cell to receive credit!)\n",
    "step_1.b.check()"
   ]
  },
  {
   "cell_type": "code",
   "execution_count": 8,
   "id": "substantial-motorcycle",
   "metadata": {
    "execution": {
     "iopub.execute_input": "2021-06-18T15:32:14.889178Z",
     "iopub.status.busy": "2021-06-18T15:32:14.888461Z",
     "iopub.status.idle": "2021-06-18T15:32:14.892007Z",
     "shell.execute_reply": "2021-06-18T15:32:14.892607Z"
    },
    "papermill": {
     "duration": 0.041498,
     "end_time": "2021-06-18T15:32:14.892780",
     "exception": false,
     "start_time": "2021-06-18T15:32:14.851282",
     "status": "completed"
    },
    "tags": []
   },
   "outputs": [],
   "source": [
    "#step_1.b.hint()"
   ]
  },
  {
   "cell_type": "markdown",
   "id": "ranging-chart",
   "metadata": {
    "papermill": {
     "duration": 0.031761,
     "end_time": "2021-06-18T15:32:14.956382",
     "exception": false,
     "start_time": "2021-06-18T15:32:14.924621",
     "status": "completed"
    },
    "tags": []
   },
   "source": [
    "To compare different approaches to dealing with missing values, you'll use the same `score_dataset()` function from the tutorial.  This function reports the [mean absolute error](https://en.wikipedia.org/wiki/Mean_absolute_error) (MAE) from a random forest model."
   ]
  },
  {
   "cell_type": "code",
   "execution_count": 9,
   "id": "brown-seafood",
   "metadata": {
    "execution": {
     "iopub.execute_input": "2021-06-18T15:32:15.023254Z",
     "iopub.status.busy": "2021-06-18T15:32:15.022616Z",
     "iopub.status.idle": "2021-06-18T15:32:15.294560Z",
     "shell.execute_reply": "2021-06-18T15:32:15.295253Z",
     "shell.execute_reply.started": "2021-06-18T14:52:59.603877Z"
    },
    "papermill": {
     "duration": 0.308115,
     "end_time": "2021-06-18T15:32:15.295477",
     "exception": false,
     "start_time": "2021-06-18T15:32:14.987362",
     "status": "completed"
    },
    "tags": []
   },
   "outputs": [],
   "source": [
    "from sklearn.ensemble import RandomForestRegressor\n",
    "from sklearn.metrics import mean_absolute_error\n",
    "\n",
    "# Function for comparing different approaches\n",
    "def score_dataset(X_train, X_valid, y_train, y_valid):\n",
    "    model = RandomForestRegressor(n_estimators=100, random_state=0)\n",
    "    model.fit(X_train, y_train)\n",
    "    preds = model.predict(X_valid)\n",
    "    return mean_absolute_error(y_valid, preds)"
   ]
  },
  {
   "cell_type": "markdown",
   "id": "occupational-employment",
   "metadata": {
    "papermill": {
     "duration": 0.033772,
     "end_time": "2021-06-18T15:32:15.362085",
     "exception": false,
     "start_time": "2021-06-18T15:32:15.328313",
     "status": "completed"
    },
    "tags": []
   },
   "source": [
    "# Step 2: Drop columns with missing values\n",
    "\n",
    "In this step, you'll preprocess the data in `X_train` and `X_valid` to remove columns with missing values.  Set the preprocessed DataFrames to `reduced_X_train` and `reduced_X_valid`, respectively.  "
   ]
  },
  {
   "cell_type": "code",
   "execution_count": 10,
   "id": "precise-arrival",
   "metadata": {
    "execution": {
     "iopub.execute_input": "2021-06-18T15:32:15.432801Z",
     "iopub.status.busy": "2021-06-18T15:32:15.432047Z",
     "iopub.status.idle": "2021-06-18T15:32:15.464425Z",
     "shell.execute_reply": "2021-06-18T15:32:15.463720Z",
     "shell.execute_reply.started": "2021-06-18T14:53:07.175714Z"
    },
    "papermill": {
     "duration": 0.068743,
     "end_time": "2021-06-18T15:32:15.464580",
     "exception": false,
     "start_time": "2021-06-18T15:32:15.395837",
     "status": "completed"
    },
    "tags": []
   },
   "outputs": [
    {
     "data": {
      "application/javascript": [
       "parent.postMessage({\"jupyterEvent\": \"custom.exercise_interaction\", \"data\": {\"outcomeType\": 1, \"valueTowardsCompletion\": 1.0, \"interactionType\": 1, \"questionType\": 2, \"questionId\": \"2_DropMissing\", \"learnToolsVersion\": \"0.3.4\", \"failureMessage\": \"\", \"exceptionClass\": \"\", \"trace\": \"\"}}, \"*\")"
      ],
      "text/plain": [
       "<IPython.core.display.Javascript object>"
      ]
     },
     "metadata": {},
     "output_type": "display_data"
    },
    {
     "data": {
      "text/markdown": [
       "<span style=\"color:#33cc33\">Correct</span>"
      ],
      "text/plain": [
       "Correct"
      ]
     },
     "metadata": {},
     "output_type": "display_data"
    }
   ],
   "source": [
    "# Fill in the line below: get names of columns with missing values\n",
    "cols_with_missing = [col for col in X_train.columns\n",
    "                     if X_train[col].isnull().any()]\n",
    "\n",
    "# Fill in the lines below: drop columns in training and validation data\n",
    "reduced_X_train = X_train.drop(cols_with_missing, axis=1)\n",
    "reduced_X_valid = X_valid.drop(cols_with_missing, axis=1)\n",
    "\n",
    "# Check your answers\n",
    "step_2.check()"
   ]
  },
  {
   "cell_type": "code",
   "execution_count": 11,
   "id": "martial-translation",
   "metadata": {
    "execution": {
     "iopub.execute_input": "2021-06-18T15:32:15.536519Z",
     "iopub.status.busy": "2021-06-18T15:32:15.535840Z",
     "iopub.status.idle": "2021-06-18T15:32:15.539792Z",
     "shell.execute_reply": "2021-06-18T15:32:15.538848Z"
    },
    "papermill": {
     "duration": 0.039855,
     "end_time": "2021-06-18T15:32:15.540119",
     "exception": false,
     "start_time": "2021-06-18T15:32:15.500264",
     "status": "completed"
    },
    "tags": []
   },
   "outputs": [],
   "source": [
    "# Lines below will give you a hint or solution code\n",
    "#step_2.hint()\n",
    "#step_2.solution()"
   ]
  },
  {
   "cell_type": "markdown",
   "id": "mediterranean-closing",
   "metadata": {
    "papermill": {
     "duration": 0.03421,
     "end_time": "2021-06-18T15:32:15.609673",
     "exception": false,
     "start_time": "2021-06-18T15:32:15.575463",
     "status": "completed"
    },
    "tags": []
   },
   "source": [
    "Run the next code cell without changes to obtain the MAE for this approach."
   ]
  },
  {
   "cell_type": "code",
   "execution_count": 12,
   "id": "coastal-arabic",
   "metadata": {
    "execution": {
     "iopub.execute_input": "2021-06-18T15:32:15.686593Z",
     "iopub.status.busy": "2021-06-18T15:32:15.685598Z",
     "iopub.status.idle": "2021-06-18T15:32:16.857159Z",
     "shell.execute_reply": "2021-06-18T15:32:16.856552Z",
     "shell.execute_reply.started": "2021-06-18T14:53:13.728129Z"
    },
    "papermill": {
     "duration": 1.211286,
     "end_time": "2021-06-18T15:32:16.857331",
     "exception": false,
     "start_time": "2021-06-18T15:32:15.646045",
     "status": "completed"
    },
    "tags": []
   },
   "outputs": [
    {
     "name": "stdout",
     "output_type": "stream",
     "text": [
      "MAE (Drop columns with missing values):\n",
      "17837.82570776256\n"
     ]
    }
   ],
   "source": [
    "print(\"MAE (Drop columns with missing values):\")\n",
    "print(score_dataset(reduced_X_train, reduced_X_valid, y_train, y_valid))"
   ]
  },
  {
   "cell_type": "markdown",
   "id": "genetic-parcel",
   "metadata": {
    "papermill": {
     "duration": 0.03587,
     "end_time": "2021-06-18T15:32:16.928220",
     "exception": false,
     "start_time": "2021-06-18T15:32:16.892350",
     "status": "completed"
    },
    "tags": []
   },
   "source": [
    "# Step 3: Imputation\n",
    "\n",
    "### Part A\n",
    "\n",
    "Use the next code cell to impute missing values with the mean value along each column.  Set the preprocessed DataFrames to `imputed_X_train` and `imputed_X_valid`.  Make sure that the column names match those in `X_train` and `X_valid`."
   ]
  },
  {
   "cell_type": "code",
   "execution_count": 13,
   "id": "joint-roulette",
   "metadata": {
    "execution": {
     "iopub.execute_input": "2021-06-18T15:32:17.003060Z",
     "iopub.status.busy": "2021-06-18T15:32:17.002189Z",
     "iopub.status.idle": "2021-06-18T15:32:17.036436Z",
     "shell.execute_reply": "2021-06-18T15:32:17.037045Z",
     "shell.execute_reply.started": "2021-06-18T14:53:36.298074Z"
    },
    "papermill": {
     "duration": 0.074878,
     "end_time": "2021-06-18T15:32:17.037232",
     "exception": false,
     "start_time": "2021-06-18T15:32:16.962354",
     "status": "completed"
    },
    "tags": []
   },
   "outputs": [
    {
     "data": {
      "application/javascript": [
       "parent.postMessage({\"jupyterEvent\": \"custom.exercise_interaction\", \"data\": {\"outcomeType\": 1, \"valueTowardsCompletion\": 1.0, \"interactionType\": 1, \"questionType\": 2, \"questionId\": \"3.1_ImputeCode\", \"learnToolsVersion\": \"0.3.4\", \"failureMessage\": \"\", \"exceptionClass\": \"\", \"trace\": \"\"}}, \"*\")"
      ],
      "text/plain": [
       "<IPython.core.display.Javascript object>"
      ]
     },
     "metadata": {},
     "output_type": "display_data"
    },
    {
     "data": {
      "text/markdown": [
       "<span style=\"color:#33cc33\">Correct</span>"
      ],
      "text/plain": [
       "Correct"
      ]
     },
     "metadata": {},
     "output_type": "display_data"
    }
   ],
   "source": [
    "from sklearn.impute import SimpleImputer\n",
    "\n",
    "# Fill in the lines below: imputation\n",
    "my_imputer = SimpleImputer()\n",
    "imputed_X_train = pd.DataFrame(my_imputer.fit_transform(X_train))\n",
    "imputed_X_valid = pd.DataFrame(my_imputer.transform(X_valid))\n",
    "\n",
    "# Fill in the lines below: imputation removed column names; put them back\n",
    "imputed_X_train.columns = X_train.columns\n",
    "imputed_X_valid.columns = X_valid.columns\n",
    "\n",
    "# Check your answers\n",
    "step_3.a.check()"
   ]
  },
  {
   "cell_type": "code",
   "execution_count": 14,
   "id": "dependent-forum",
   "metadata": {
    "execution": {
     "iopub.execute_input": "2021-06-18T15:32:17.113237Z",
     "iopub.status.busy": "2021-06-18T15:32:17.112336Z",
     "iopub.status.idle": "2021-06-18T15:32:17.116619Z",
     "shell.execute_reply": "2021-06-18T15:32:17.116095Z"
    },
    "papermill": {
     "duration": 0.043743,
     "end_time": "2021-06-18T15:32:17.116770",
     "exception": false,
     "start_time": "2021-06-18T15:32:17.073027",
     "status": "completed"
    },
    "tags": []
   },
   "outputs": [],
   "source": [
    "# Lines below will give you a hint or solution code\n",
    "#step_3.a.hint()\n",
    "#step_3.a.solution()"
   ]
  },
  {
   "cell_type": "markdown",
   "id": "tested-oxide",
   "metadata": {
    "papermill": {
     "duration": 0.036816,
     "end_time": "2021-06-18T15:32:17.190848",
     "exception": false,
     "start_time": "2021-06-18T15:32:17.154032",
     "status": "completed"
    },
    "tags": []
   },
   "source": [
    "Run the next code cell without changes to obtain the MAE for this approach."
   ]
  },
  {
   "cell_type": "code",
   "execution_count": 15,
   "id": "bored-serum",
   "metadata": {
    "execution": {
     "iopub.execute_input": "2021-06-18T15:32:17.272711Z",
     "iopub.status.busy": "2021-06-18T15:32:17.271835Z",
     "iopub.status.idle": "2021-06-18T15:32:18.536612Z",
     "shell.execute_reply": "2021-06-18T15:32:18.537127Z",
     "shell.execute_reply.started": "2021-06-18T14:53:40.508224Z"
    },
    "papermill": {
     "duration": 1.307651,
     "end_time": "2021-06-18T15:32:18.537324",
     "exception": false,
     "start_time": "2021-06-18T15:32:17.229673",
     "status": "completed"
    },
    "tags": []
   },
   "outputs": [
    {
     "name": "stdout",
     "output_type": "stream",
     "text": [
      "MAE (Imputation):\n",
      "18062.894611872147\n"
     ]
    }
   ],
   "source": [
    "print(\"MAE (Imputation):\")\n",
    "print(score_dataset(imputed_X_train, imputed_X_valid, y_train, y_valid))"
   ]
  },
  {
   "cell_type": "markdown",
   "id": "floral-difficulty",
   "metadata": {
    "papermill": {
     "duration": 0.037019,
     "end_time": "2021-06-18T15:32:18.609638",
     "exception": false,
     "start_time": "2021-06-18T15:32:18.572619",
     "status": "completed"
    },
    "tags": []
   },
   "source": [
    "### Part B\n",
    "\n",
    "Compare the MAE from each approach.  Does anything surprise you about the results?  Why do you think one approach performed better than the other?"
   ]
  },
  {
   "cell_type": "code",
   "execution_count": 16,
   "id": "placed-floating",
   "metadata": {
    "execution": {
     "iopub.execute_input": "2021-06-18T15:32:18.686348Z",
     "iopub.status.busy": "2021-06-18T15:32:18.685248Z",
     "iopub.status.idle": "2021-06-18T15:32:18.694591Z",
     "shell.execute_reply": "2021-06-18T15:32:18.693893Z",
     "shell.execute_reply.started": "2021-06-18T14:53:45.867806Z"
    },
    "papermill": {
     "duration": 0.050062,
     "end_time": "2021-06-18T15:32:18.694739",
     "exception": false,
     "start_time": "2021-06-18T15:32:18.644677",
     "status": "completed"
    },
    "tags": []
   },
   "outputs": [
    {
     "data": {
      "application/javascript": [
       "parent.postMessage({\"jupyterEvent\": \"custom.exercise_interaction\", \"data\": {\"outcomeType\": 1, \"valueTowardsCompletion\": 1.0, \"interactionType\": 1, \"questionType\": 4, \"questionId\": \"3.2_ImputeThought\", \"learnToolsVersion\": \"0.3.4\", \"failureMessage\": \"\", \"exceptionClass\": \"\", \"trace\": \"\"}}, \"*\")"
      ],
      "text/plain": [
       "<IPython.core.display.Javascript object>"
      ]
     },
     "metadata": {},
     "output_type": "display_data"
    },
    {
     "data": {
      "text/markdown": [
       "<span style=\"color:#33cc33\">Correct:</span> \n",
       "\n",
       "Given that thre are so few missing values in the dataset, we'd expect imputation to perform better than dropping columns entirely.  However, we see that dropping columns performs slightly better!  While this can probably partially be attributed to noise in the dataset, another potential explanation is that the imputation method is not a great match to this dataset.  That is, maybe instead of filling in the mean value, it makes more sense to set every missing value to a value of 0, to fill in the most frequently encountered value, or to use some other method.  For instance, consider the `GarageYrBlt` column (which indicates the year that the garage was built).  It's likely that in some cases, a missing value could indicate a house that does not have a garage.  Does it make more sense to fill in the median value along each column in this case?  Or could we get better results by filling in the minimum value along each column?  It's not quite clear what's best in this case, but perhaps we can rule out some options immediately - for instance, setting missing values in this column to 0 is likely to yield horrible results!"
      ],
      "text/plain": [
       "Correct: \n",
       "\n",
       "Given that thre are so few missing values in the dataset, we'd expect imputation to perform better than dropping columns entirely.  However, we see that dropping columns performs slightly better!  While this can probably partially be attributed to noise in the dataset, another potential explanation is that the imputation method is not a great match to this dataset.  That is, maybe instead of filling in the mean value, it makes more sense to set every missing value to a value of 0, to fill in the most frequently encountered value, or to use some other method.  For instance, consider the `GarageYrBlt` column (which indicates the year that the garage was built).  It's likely that in some cases, a missing value could indicate a house that does not have a garage.  Does it make more sense to fill in the median value along each column in this case?  Or could we get better results by filling in the minimum value along each column?  It's not quite clear what's best in this case, but perhaps we can rule out some options immediately - for instance, setting missing values in this column to 0 is likely to yield horrible results!"
      ]
     },
     "metadata": {},
     "output_type": "display_data"
    }
   ],
   "source": [
    "# Check your answer (Run this code cell to receive credit!)\n",
    "step_3.b.check()"
   ]
  },
  {
   "cell_type": "code",
   "execution_count": 17,
   "id": "consecutive-agenda",
   "metadata": {
    "execution": {
     "iopub.execute_input": "2021-06-18T15:32:18.780237Z",
     "iopub.status.busy": "2021-06-18T15:32:18.779253Z",
     "iopub.status.idle": "2021-06-18T15:32:18.782072Z",
     "shell.execute_reply": "2021-06-18T15:32:18.782554Z"
    },
    "papermill": {
     "duration": 0.047226,
     "end_time": "2021-06-18T15:32:18.782751",
     "exception": false,
     "start_time": "2021-06-18T15:32:18.735525",
     "status": "completed"
    },
    "tags": []
   },
   "outputs": [],
   "source": [
    "#step_3.b.hint()"
   ]
  },
  {
   "cell_type": "markdown",
   "id": "enormous-dispatch",
   "metadata": {
    "papermill": {
     "duration": 0.037341,
     "end_time": "2021-06-18T15:32:18.855775",
     "exception": false,
     "start_time": "2021-06-18T15:32:18.818434",
     "status": "completed"
    },
    "tags": []
   },
   "source": [
    "# Step 4: Generate test predictions\n",
    "\n",
    "In this final step, you'll use any approach of your choosing to deal with missing values.  Once you've preprocessed the training and validation features, you'll train and evaluate a random forest model.  Then, you'll preprocess the test data before generating predictions that can be submitted to the competition!\n",
    "\n",
    "### Part A\n",
    "\n",
    "Use the next code cell to preprocess the training and validation data.  Set the preprocessed DataFrames to `final_X_train` and `final_X_valid`.  **You can use any approach of your choosing here!**  in order for this step to be marked as correct, you need only ensure:\n",
    "- the preprocessed DataFrames have the same number of columns,\n",
    "- the preprocessed DataFrames have no missing values, \n",
    "- `final_X_train` and `y_train` have the same number of rows, and\n",
    "- `final_X_valid` and `y_valid` have the same number of rows."
   ]
  },
  {
   "cell_type": "code",
   "execution_count": 18,
   "id": "adverse-treasury",
   "metadata": {
    "execution": {
     "iopub.execute_input": "2021-06-18T15:32:18.937409Z",
     "iopub.status.busy": "2021-06-18T15:32:18.936275Z",
     "iopub.status.idle": "2021-06-18T15:32:18.963511Z",
     "shell.execute_reply": "2021-06-18T15:32:18.962926Z",
     "shell.execute_reply.started": "2021-06-18T15:28:19.921392Z"
    },
    "papermill": {
     "duration": 0.071196,
     "end_time": "2021-06-18T15:32:18.963654",
     "exception": false,
     "start_time": "2021-06-18T15:32:18.892458",
     "status": "completed"
    },
    "tags": []
   },
   "outputs": [
    {
     "data": {
      "application/javascript": [
       "parent.postMessage({\"jupyterEvent\": \"custom.exercise_interaction\", \"data\": {\"outcomeType\": 1, \"valueTowardsCompletion\": 1.0, \"interactionType\": 1, \"questionType\": 2, \"questionId\": \"4.1_PredsCodeA\", \"learnToolsVersion\": \"0.3.4\", \"failureMessage\": \"\", \"exceptionClass\": \"\", \"trace\": \"\"}}, \"*\")"
      ],
      "text/plain": [
       "<IPython.core.display.Javascript object>"
      ]
     },
     "metadata": {},
     "output_type": "display_data"
    },
    {
     "data": {
      "text/markdown": [
       "<span style=\"color:#33cc33\">Correct</span>"
      ],
      "text/plain": [
       "Correct"
      ]
     },
     "metadata": {},
     "output_type": "display_data"
    }
   ],
   "source": [
    "# Preprocessed training and validation features\n",
    "final_imputer = SimpleImputer()\n",
    "final_X_train = pd.DataFrame(final_imputer.fit_transform(X_train)) \n",
    "final_X_valid = pd.DataFrame(final_imputer.transform(X_valid))\n",
    "final_X_train.columns = X_train.columns\n",
    "final_X_valid.columns = X_valid.columns\n",
    "\n",
    "# Check your answers\n",
    "step_4.a.check()"
   ]
  },
  {
   "cell_type": "code",
   "execution_count": 19,
   "id": "suspended-springfield",
   "metadata": {
    "execution": {
     "iopub.execute_input": "2021-06-18T15:32:19.049186Z",
     "iopub.status.busy": "2021-06-18T15:32:19.047776Z",
     "iopub.status.idle": "2021-06-18T15:32:19.051546Z",
     "shell.execute_reply": "2021-06-18T15:32:19.050709Z",
     "shell.execute_reply.started": "2021-06-18T15:30:29.596659Z"
    },
    "papermill": {
     "duration": 0.049199,
     "end_time": "2021-06-18T15:32:19.051737",
     "exception": false,
     "start_time": "2021-06-18T15:32:19.002538",
     "status": "completed"
    },
    "tags": []
   },
   "outputs": [],
   "source": [
    "# Lines below will give you a hint or solution code\n",
    "#step_4.a.hint()\n",
    "#step_4.a.solution()"
   ]
  },
  {
   "cell_type": "markdown",
   "id": "subsequent-alberta",
   "metadata": {
    "papermill": {
     "duration": 0.040004,
     "end_time": "2021-06-18T15:32:19.131636",
     "exception": false,
     "start_time": "2021-06-18T15:32:19.091632",
     "status": "completed"
    },
    "tags": []
   },
   "source": [
    "Run the next code cell to train and evaluate a random forest model.  (*Note that we don't use the `score_dataset()` function above, because we will soon use the trained model to generate test predictions!*)"
   ]
  },
  {
   "cell_type": "code",
   "execution_count": 20,
   "id": "reliable-strand",
   "metadata": {
    "execution": {
     "iopub.execute_input": "2021-06-18T15:32:19.230056Z",
     "iopub.status.busy": "2021-06-18T15:32:19.224543Z",
     "iopub.status.idle": "2021-06-18T15:32:20.549933Z",
     "shell.execute_reply": "2021-06-18T15:32:20.550442Z",
     "shell.execute_reply.started": "2021-06-18T15:28:25.361515Z"
    },
    "papermill": {
     "duration": 1.375331,
     "end_time": "2021-06-18T15:32:20.550634",
     "exception": false,
     "start_time": "2021-06-18T15:32:19.175303",
     "status": "completed"
    },
    "tags": []
   },
   "outputs": [
    {
     "name": "stdout",
     "output_type": "stream",
     "text": [
      "MAE (Your approach):\n",
      "18062.894611872147\n"
     ]
    }
   ],
   "source": [
    "# Define and fit model\n",
    "model = RandomForestRegressor(n_estimators=100, random_state=0)\n",
    "model.fit(final_X_train, y_train)\n",
    "\n",
    "# Get validation predictions and MAE\n",
    "preds_valid = model.predict(final_X_valid)\n",
    "print(\"MAE (Your approach):\")\n",
    "print(mean_absolute_error(y_valid, preds_valid))"
   ]
  },
  {
   "cell_type": "markdown",
   "id": "million-occasions",
   "metadata": {
    "papermill": {
     "duration": 0.03957,
     "end_time": "2021-06-18T15:32:20.629741",
     "exception": false,
     "start_time": "2021-06-18T15:32:20.590171",
     "status": "completed"
    },
    "tags": []
   },
   "source": [
    "### Part B\n",
    "\n",
    "Use the next code cell to preprocess your test data.  Make sure that you use a method that agrees with how you preprocessed the training and validation data, and set the preprocessed test features to `final_X_test`.\n",
    "\n",
    "Then, use the preprocessed test features and the trained model to generate test predictions in `preds_test`.\n",
    "\n",
    "In order for this step to be marked correct, you need only ensure:\n",
    "- the preprocessed test DataFrame has no missing values, and\n",
    "- `final_X_test` has the same number of rows as `X_test`."
   ]
  },
  {
   "cell_type": "code",
   "execution_count": 21,
   "id": "sized-liechtenstein",
   "metadata": {
    "execution": {
     "iopub.execute_input": "2021-06-18T15:32:20.719426Z",
     "iopub.status.busy": "2021-06-18T15:32:20.718722Z",
     "iopub.status.idle": "2021-06-18T15:32:20.775856Z",
     "shell.execute_reply": "2021-06-18T15:32:20.775344Z",
     "shell.execute_reply.started": "2021-06-18T15:30:05.871415Z"
    },
    "papermill": {
     "duration": 0.107003,
     "end_time": "2021-06-18T15:32:20.776034",
     "exception": false,
     "start_time": "2021-06-18T15:32:20.669031",
     "status": "completed"
    },
    "tags": []
   },
   "outputs": [
    {
     "data": {
      "application/javascript": [
       "parent.postMessage({\"jupyterEvent\": \"custom.exercise_interaction\", \"data\": {\"outcomeType\": 1, \"valueTowardsCompletion\": 1.0, \"interactionType\": 1, \"questionType\": 2, \"questionId\": \"4.2_PredsCodeB\", \"learnToolsVersion\": \"0.3.4\", \"failureMessage\": \"\", \"exceptionClass\": \"\", \"trace\": \"\"}}, \"*\")"
      ],
      "text/plain": [
       "<IPython.core.display.Javascript object>"
      ]
     },
     "metadata": {},
     "output_type": "display_data"
    },
    {
     "data": {
      "text/markdown": [
       "<span style=\"color:#33cc33\">Correct</span>"
      ],
      "text/plain": [
       "Correct"
      ]
     },
     "metadata": {},
     "output_type": "display_data"
    }
   ],
   "source": [
    "# Fill in the line below: preprocess test data\n",
    "final_X_test = pd.DataFrame(final_imputer.fit_transform(X_test))\n",
    "\n",
    "# Fill in the line below: get test predictions\n",
    "preds_test = model.predict(final_X_test)\n",
    "\n",
    "# Check your answers\n",
    "step_4.b.check()"
   ]
  },
  {
   "cell_type": "code",
   "execution_count": 22,
   "id": "polished-cookie",
   "metadata": {
    "execution": {
     "iopub.execute_input": "2021-06-18T15:32:20.859009Z",
     "iopub.status.busy": "2021-06-18T15:32:20.858296Z",
     "iopub.status.idle": "2021-06-18T15:32:20.862322Z",
     "shell.execute_reply": "2021-06-18T15:32:20.861412Z",
     "shell.execute_reply.started": "2021-06-18T15:30:15.995805Z"
    },
    "papermill": {
     "duration": 0.047797,
     "end_time": "2021-06-18T15:32:20.862527",
     "exception": false,
     "start_time": "2021-06-18T15:32:20.814730",
     "status": "completed"
    },
    "tags": []
   },
   "outputs": [],
   "source": [
    "# Lines below will give you a hint or solution code\n",
    "#step_4.b.hint()\n",
    "#step_4.b.solution()"
   ]
  },
  {
   "cell_type": "markdown",
   "id": "extreme-beauty",
   "metadata": {
    "papermill": {
     "duration": 0.041334,
     "end_time": "2021-06-18T15:32:20.946402",
     "exception": false,
     "start_time": "2021-06-18T15:32:20.905068",
     "status": "completed"
    },
    "tags": []
   },
   "source": [
    "Run the next code cell without changes to save your results to a CSV file that can be submitted directly to the competition."
   ]
  },
  {
   "cell_type": "code",
   "execution_count": 23,
   "id": "retained-uncertainty",
   "metadata": {
    "execution": {
     "iopub.execute_input": "2021-06-18T15:32:21.035623Z",
     "iopub.status.busy": "2021-06-18T15:32:21.034041Z",
     "iopub.status.idle": "2021-06-18T15:32:21.047603Z",
     "shell.execute_reply": "2021-06-18T15:32:21.046737Z",
     "shell.execute_reply.started": "2021-06-18T15:30:41.831532Z"
    },
    "papermill": {
     "duration": 0.060831,
     "end_time": "2021-06-18T15:32:21.047766",
     "exception": false,
     "start_time": "2021-06-18T15:32:20.986935",
     "status": "completed"
    },
    "tags": []
   },
   "outputs": [],
   "source": [
    "# Save test predictions to file\n",
    "output = pd.DataFrame({'Id': X_test.index,\n",
    "                       'SalePrice': preds_test})\n",
    "output.to_csv('submission.csv', index=False)"
   ]
  },
  {
   "cell_type": "code",
   "execution_count": null,
   "id": "contained-sheriff",
   "metadata": {
    "papermill": {
     "duration": 0.038732,
     "end_time": "2021-06-18T15:32:21.126429",
     "exception": false,
     "start_time": "2021-06-18T15:32:21.087697",
     "status": "completed"
    },
    "tags": []
   },
   "outputs": [],
   "source": []
  },
  {
   "cell_type": "markdown",
   "id": "starting-optimum",
   "metadata": {
    "papermill": {
     "duration": 0.043842,
     "end_time": "2021-06-18T15:32:21.212080",
     "exception": false,
     "start_time": "2021-06-18T15:32:21.168238",
     "status": "completed"
    },
    "tags": []
   },
   "source": [
    "# Submit your results\n",
    "\n",
    "Once you have successfully completed Step 4, you're ready to submit your results to the leaderboard!  (_You also learned how to do this in the previous exercise.  If you need a reminder of how to do this, please use the instructions below._)  \n",
    "\n",
    "First, you'll need to join the competition if you haven't already.  So open a new window by clicking on [this link](https://www.kaggle.com/c/home-data-for-ml-course).  Then click on the **Join Competition** button.\n",
    "\n",
    "![join competition image](https://i.imgur.com/wLmFtH3.png)\n",
    "\n",
    "Next, follow the instructions below:\n",
    "1. Begin by clicking on the blue **Save Version** button in the top right corner of the window.  This will generate a pop-up window.  \n",
    "2. Ensure that the **Save and Run All** option is selected, and then click on the blue **Save** button.\n",
    "3. This generates a window in the bottom left corner of the notebook.  After it has finished running, click on the number to the right of the **Save Version** button.  This pulls up a list of versions on the right of the screen.  Click on the ellipsis **(...)** to the right of the most recent version, and select **Open in Viewer**.  This brings you into view mode of the same page. You will need to scroll down to get back to these instructions.\n",
    "4. Click on the **Output** tab on the right of the screen.  Then, click on the file you would like to submit, and click on the blue **Submit** button to submit your results to the leaderboard.\n",
    "\n",
    "You have now successfully submitted to the competition!\n",
    "\n",
    "If you want to keep working to improve your performance, select the blue **Edit** button in the top right of the screen. Then you can change your code and repeat the process. There's a lot of room to improve, and you will climb up the leaderboard as you work.\n",
    "\n",
    "\n",
    "# Keep going\n",
    "\n",
    "Move on to learn what **[categorical variables](https://www.kaggle.com/alexisbcook/categorical-variables)** are, along with how to incorporate them into your machine learning models.  Categorical variables are very common in real-world data, but you'll get an error if you try to plug them into your models without processing them first!"
   ]
  },
  {
   "cell_type": "markdown",
   "id": "industrial-freeze",
   "metadata": {
    "papermill": {
     "duration": 0.039389,
     "end_time": "2021-06-18T15:32:21.293938",
     "exception": false,
     "start_time": "2021-06-18T15:32:21.254549",
     "status": "completed"
    },
    "tags": []
   },
   "source": [
    "---\n",
    "\n",
    "\n",
    "\n",
    "\n",
    "*Have questions or comments? Visit the [Learn Discussion forum](https://www.kaggle.com/learn-forum/161289) to chat with other Learners.*"
   ]
  }
 ],
 "metadata": {
  "kernelspec": {
   "display_name": "Python 3",
   "language": "python",
   "name": "python3"
  },
  "language_info": {
   "codemirror_mode": {
    "name": "ipython",
    "version": 3
   },
   "file_extension": ".py",
   "mimetype": "text/x-python",
   "name": "python",
   "nbconvert_exporter": "python",
   "pygments_lexer": "ipython3",
   "version": "3.7.9"
  },
  "papermill": {
   "default_parameters": {},
   "duration": 16.883449,
   "end_time": "2021-06-18T15:32:23.032758",
   "environment_variables": {},
   "exception": null,
   "input_path": "__notebook__.ipynb",
   "output_path": "__notebook__.ipynb",
   "parameters": {},
   "start_time": "2021-06-18T15:32:06.149309",
   "version": "2.3.2"
  }
 },
 "nbformat": 4,
 "nbformat_minor": 5
}
